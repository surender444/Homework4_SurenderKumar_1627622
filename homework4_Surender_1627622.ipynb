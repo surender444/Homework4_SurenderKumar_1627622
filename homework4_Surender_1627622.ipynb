{
 "cells": [
  {
   "cell_type": "code",
   "execution_count": 7,
   "metadata": {
    "colab": {
     "base_uri": "https://localhost:8080/"
    },
    "executionInfo": {
     "elapsed": 4,
     "status": "ok",
     "timestamp": 1643988581026,
     "user": {
      "displayName": "Xiaoli Huan",
      "photoUrl": "https://lh3.googleusercontent.com/a/default-user=s64",
      "userId": "12700089891795799701"
     },
     "user_tz": 360
    },
    "id": "XNCfMBj6WDrH",
    "outputId": "40b81817-a973-445e-868e-1b988907844c"
   },
   "outputs": [
    {
     "data": {
      "image/png": "[encoded data removed]",
      "text/plain": [
       "<Figure size 640x480 with 1 Axes>"
      ]
     },
     "metadata": {},
     "output_type": "display_data"
    },
    {
     "name": "stdout",
     "output_type": "stream",
     "text": [
      "Switching probability: 0.3277\n",
      "Sticking probability: 0.3333\n"
     ]
    }
   ],
   "source": [
    "# This is the answer for question no.1\n",
    "\n",
    "\n",
    "import random\n",
    "import matplotlib.pyplot as plt\n",
    "\n",
    "def monte_carlo_simulation(num_simulations):\n",
    "    switch_wins = 0\n",
    "    stick_wins = 0\n",
    "\n",
    "    for _ in range(num_simulations):\n",
    "        # This is here create three boxes with $10, $10, and $100 bills\n",
    "        boxes = [10, 10, 100]\n",
    "\n",
    "        # Now this is to randomly choose a box\n",
    "        chosen_box = random.choice([0, 1, 2])\n",
    "\n",
    "        # This is when friend opens a box with a $10 bill\n",
    "        remaining_boxes = [0, 1, 2]\n",
    "        remaining_boxes.remove(chosen_box)\n",
    "        opened_box = random.choice(remaining_boxes)\n",
    "\n",
    "        # This is to switch to the other unopened box\n",
    "        remaining_boxes.remove(opened_box)\n",
    "        switched_box = remaining_boxes[0]\n",
    "\n",
    "        # To check if switching leads to a win\n",
    "        if boxes[switched_box] == 100:\n",
    "            switch_wins += 1\n",
    "\n",
    "        # To see check if sticking leads to a win\n",
    "        if boxes[chosen_box] == 100:\n",
    "            stick_wins += 1\n",
    "\n",
    "    switch_probability = switch_wins / num_simulations\n",
    "    stick_probability = stick_wins / num_simulations\n",
    "\n",
    "    return switch_probability, stick_probability\n",
    "\n",
    "# Here to the number of simulations\n",
    "num_simulations = 10000\n",
    "\n",
    "# To perform the Monte Carlo simulation\n",
    "switch_probability, stick_probability = monte_carlo_simulation(num_simulations)\n",
    "\n",
    "# Finally to create a bar plot to visualize the probabilities\n",
    "labels = ['Switch', 'Stick']\n",
    "probabilities = [switch_probability, stick_probability]\n",
    "\n",
    "plt.bar(labels, probabilities)\n",
    "plt.xlabel('Strategy')\n",
    "plt.ylabel('Probability')\n",
    "plt.title('Monte Carlo Simulation Results')\n",
    "plt.show()\n",
    "\n",
    "print(f\"Switching probability: {switch_probability}\")\n",
    "print(f\"Sticking probability: {stick_probability}\")"
   ]
  },
  {
   "cell_type": "code",
   "execution_count": 13,
   "metadata": {},
   "outputs": [
    {
     "name": "stdout",
     "output_type": "stream",
     "text": [
      "Approximate Integral: 0.020627043468810335\n"
     ]
    }
   ],
   "source": [
    "# This is the answer of the question no.2\n",
    "\n",
    "import random\n",
    "import math\n",
    "\n",
    "def integrand(x):\n",
    "    return x * x * math.cos(71 * x) + math.sin(13 * x)\n",
    "\n",
    "def monte_carlo_integration(a, b, num_samples):\n",
    "    total = 0\n",
    "\n",
    "    for _ in range(num_samples):\n",
    "        x = random.uniform(a, b)\n",
    "        total += integrand(x)\n",
    "\n",
    "    average = total / num_samples\n",
    "    integral = average * (b - a)\n",
    "    return integral\n",
    "\n",
    "# Here this is for Integration limits\n",
    "a = 0\n",
    "b = 1\n",
    "\n",
    "# Number of random samples\n",
    "num_samples = 1000000\n",
    "\n",
    "# This to Perform the Monte Carlo integration\n",
    "approx_integral = monte_carlo_integration(a, b, num_samples)\n",
    "\n",
    "print(f\"Approximate Integral: {approx_integral}\")"
   ]
  },
  {
   "cell_type": "code",
   "execution_count": null,
   "metadata": {},
   "outputs": [],
   "source": []
  },
  {
   "cell_type": "code",
   "execution_count": null,
   "metadata": {},
   "outputs": [],
   "source": []
  }
 ],
 "metadata": {
  "colab": {
   "collapsed_sections": [],
   "name": "homework3.ipynb",
   "provenance": []
  },
  "kernelspec": {
   "display_name": "Python 3 (ipykernel)",
   "language": "python",
   "name": "python3"
  },
  "language_info": {
   "codemirror_mode": {
    "name": "ipython",
    "version": 3
   },
   "file_extension": ".py",
   "mimetype": "text/x-python",
   "name": "python",
   "nbconvert_exporter": "python",
   "pygments_lexer": "ipython3",
   "version": "3.10.9"
  }
 },
 "nbformat": 4,
 "nbformat_minor": 1
}
